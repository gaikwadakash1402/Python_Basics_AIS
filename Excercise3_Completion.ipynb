{
 "cells": [
  {
   "cell_type": "code",
   "execution_count": 1,
   "id": "fd8e1e17",
   "metadata": {},
   "outputs": [
    {
     "name": "stdout",
     "output_type": "stream",
     "text": [
      "1\n",
      "2\n",
      "3\n",
      "4\n",
      "5\n",
      "6\n",
      "2\n",
      "3\n",
      "4\n",
      "5\n",
      "6\n",
      "7\n",
      "3\n",
      "4\n",
      "5\n",
      "6\n",
      "7\n",
      "8\n",
      "4\n",
      "5\n",
      "6\n",
      "7\n",
      "8\n",
      "9\n",
      "5\n",
      "6\n",
      "7\n",
      "8\n",
      "9\n",
      "10\n"
     ]
    }
   ],
   "source": [
    "#1\n",
    "for i in range(1,6):\n",
    "    for j in range(6):\n",
    "        j += i\n",
    "        print(j)\n"
   ]
  },
  {
   "cell_type": "code",
   "execution_count": 2,
   "id": "730b43d1",
   "metadata": {},
   "outputs": [
    {
     "name": "stdout",
     "output_type": "stream",
     "text": [
      "[1, 2, 3, 4, 5, 6, 7, 8, 9, 10, 11, 12, 13, 14, 15, 16, 17, 18, 19, 20]\n"
     ]
    }
   ],
   "source": [
    "# 2) creat a list of 1 to 20 number using for loop [1,2,3..20]\n",
    "# using list conprehension\n",
    "# [i for i in range(1,21)]\n",
    "\n",
    "# using for loop\n",
    "x = []\n",
    "for i in range(1,21):\n",
    "    x.append(i)\n",
    "print(x)"
   ]
  },
  {
   "cell_type": "code",
   "execution_count": 3,
   "id": "fc033c1d",
   "metadata": {},
   "outputs": [
    {
     "name": "stdout",
     "output_type": "stream",
     "text": [
      "[20, 19, 18, 17, 16, 15, 14, 13, 12, 11, 10, 9, 8, 7, 6, 5, 4, 3, 2, 1]\n"
     ]
    }
   ],
   "source": [
    "#3)create a  list of 20 to 1 value using  for loop (dont Use Reverse)\n",
    "\n",
    "x = []\n",
    "for i in range(20,0,-1):\n",
    "    x.append(i)\n",
    "print(x)"
   ]
  },
  {
   "cell_type": "code",
   "execution_count": 4,
   "id": "ad1ef2fa",
   "metadata": {},
   "outputs": [
    {
     "name": "stdout",
     "output_type": "stream",
     "text": [
      "9261\n",
      "12167\n",
      "15625\n",
      "19683\n",
      "24389\n",
      "29791\n",
      "35937\n",
      "42875\n",
      "50653\n",
      "59319\n"
     ]
    }
   ],
   "source": [
    "# 4)Cube of odd values between 20 to 40\n",
    "\n",
    "for x in range(20,40):\n",
    "    if x%2!= 0:\n",
    "        print(x**3)"
   ]
  },
  {
   "cell_type": "code",
   "execution_count": 10,
   "id": "8e1e2743",
   "metadata": {},
   "outputs": [
    {
     "name": "stdout",
     "output_type": "stream",
     "text": [
      "my name is Yash,my age is 27\n",
      "my name is Vaishnav,my age is 37\n",
      "my name is Tushar,my age is 18\n",
      "my name is Satyajeet,my age is 12\n",
      "my name is Prathmesh,my age is 35\n"
     ]
    }
   ],
   "source": [
    "#5) take 5 freinds name in list name=[a,b,c,d,e]\n",
    "# take corresponding ages in second list age = [20,21,23,25,24]\n",
    "\n",
    "name = [\"Yash\",\"Vaishnav\",\"Tushar\",\"Satyajeet\",\"Prathmesh\"]\n",
    "age = [27,37,18,12,35]\n",
    "\n",
    "for i,j in zip(name,age):\n",
    "    print(f\"my name is {i},my age is {j}\")"
   ]
  },
  {
   "cell_type": "code",
   "execution_count": 2,
   "id": "23fa87f1",
   "metadata": {},
   "outputs": [
    {
     "name": "stdout",
     "output_type": "stream",
     "text": [
      "[6, 2, 3, 4, 5, 1]\n"
     ]
    }
   ],
   "source": [
    "# 6\n",
    "# Given a list , write a python code to swap first and last element of the list\n",
    "\n",
    "lst = [1,2,3,4,5,6]\n",
    "def swap(lst):\n",
    "    if len(lst) >= 2:\n",
    "        x = lst[0]  \n",
    "        lst[0] = lst[5] \n",
    "        lst[5] = x  \n",
    "    return lst\n",
    "\n",
    "\n",
    "result = swap(lst)\n",
    "print(result)"
   ]
  },
  {
   "cell_type": "code",
   "execution_count": 7,
   "id": "67cc0b26",
   "metadata": {},
   "outputs": [
    {
     "name": "stdout",
     "output_type": "stream",
     "text": [
      "15\n"
     ]
    }
   ],
   "source": [
    "# 7 \n",
    "# Write a python program to get the sum of a only non-negative integers\n",
    "\n",
    "a = [1,-2,-4,4,10,-3,-5,0]\n",
    "sum = 0\n",
    "for i in a:\n",
    "    if i>=0:\n",
    "        sum= sum + i\n",
    "print(sum)\n",
    "        "
   ]
  },
  {
   "cell_type": "code",
   "execution_count": 15,
   "id": "ad701ca7",
   "metadata": {},
   "outputs": [
    {
     "name": "stdout",
     "output_type": "stream",
     "text": [
      "5\n",
      "3\n"
     ]
    }
   ],
   "source": [
    "# 8\n",
    "# Write the code to count the length of string\n",
    "\n",
    "str1 = \"akash\"\n",
    "print(len(str1))\n",
    "\n",
    "# using for loop\n",
    "str2 = \"AIS\"\n",
    "length = 0\n",
    "for i in str2:\n",
    "    length += 1\n",
    "        \n",
    "print(length)"
   ]
  },
  {
   "cell_type": "code",
   "execution_count": 17,
   "id": "e4b33712",
   "metadata": {},
   "outputs": [
    {
     "name": "stdout",
     "output_type": "stream",
     "text": [
      "6\n"
     ]
    }
   ],
   "source": [
    "# 9\n",
    "# Write code for factorial \n",
    "num = 3\n",
    "\n",
    "factorial = 1\n",
    "for i in range(1, num+1):\n",
    "    factorial *= i\n",
    "print(factorial)"
   ]
  },
  {
   "cell_type": "code",
   "execution_count": null,
   "id": "656a01cd",
   "metadata": {},
   "outputs": [],
   "source": []
  }
 ],
 "metadata": {
  "kernelspec": {
   "display_name": "Python 3 (ipykernel)",
   "language": "python",
   "name": "python3"
  },
  "language_info": {
   "codemirror_mode": {
    "name": "ipython",
    "version": 3
   },
   "file_extension": ".py",
   "mimetype": "text/x-python",
   "name": "python",
   "nbconvert_exporter": "python",
   "pygments_lexer": "ipython3",
   "version": "3.9.7"
  }
 },
 "nbformat": 4,
 "nbformat_minor": 5
}
