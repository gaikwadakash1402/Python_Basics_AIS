{
 "cells": [
  {
   "cell_type": "code",
   "execution_count": 2,
   "id": "b62b5cb5",
   "metadata": {},
   "outputs": [
    {
     "name": "stdout",
     "output_type": "stream",
     "text": [
      "10\n",
      "None\n"
     ]
    }
   ],
   "source": [
    "# Q1\n",
    "def sub(x1,x2):\n",
    "    r=x1-x2\n",
    "    print(r)\n",
    "    \n",
    "print(sub(20,10))\n",
    "    \n"
   ]
  },
  {
   "cell_type": "code",
   "execution_count": 3,
   "id": "f83f9e9b",
   "metadata": {},
   "outputs": [
    {
     "name": "stdout",
     "output_type": "stream",
     "text": [
      "6\n",
      "None\n"
     ]
    }
   ],
   "source": [
    "#Q.2 multiplication on 3 numbers\n",
    "\n",
    "def mult(a,b,c):\n",
    "    result=a*b*c\n",
    "    print(result)\n",
    "    \n",
    "    \n",
    "print(mult(1,2,3))"
   ]
  },
  {
   "cell_type": "code",
   "execution_count": 5,
   "id": "89371c54",
   "metadata": {},
   "outputs": [
    {
     "name": "stdout",
     "output_type": "stream",
     "text": [
      "81\n",
      "None\n"
     ]
    }
   ],
   "source": [
    "#Q.3 power fuction- base raised to power\n",
    "\n",
    "def pow(a,b):\n",
    "    c=a**b\n",
    "    print(c)\n",
    "    \n",
    "print(pow(3,4))"
   ]
  },
  {
   "cell_type": "code",
   "execution_count": 6,
   "id": "81f42bcf",
   "metadata": {},
   "outputs": [
    {
     "name": "stdout",
     "output_type": "stream",
     "text": [
      "125\n",
      "None\n"
     ]
    }
   ],
   "source": [
    "#Q.4 cube of any value (cube)\n",
    "\n",
    "def cube(n):\n",
    "    result=n*n*n\n",
    "    print(result)\n",
    "    \n",
    "print(cube(5))"
   ]
  },
  {
   "cell_type": "code",
   "execution_count": 17,
   "id": "a40c76cf",
   "metadata": {},
   "outputs": [
    {
     "name": "stdout",
     "output_type": "stream",
     "text": [
      "36.2\n",
      "None\n"
     ]
    }
   ],
   "source": [
    "def mean(lst):\n",
    "    print(sum(lst)/len(lst))\n",
    "\n",
    "lst = [12,23,34,45,67]\n",
    "print(mean(lst))"
   ]
  },
  {
   "cell_type": "code",
   "execution_count": null,
   "id": "043fce5e",
   "metadata": {},
   "outputs": [],
   "source": []
  },
  {
   "cell_type": "code",
   "execution_count": null,
   "id": "00219c30",
   "metadata": {},
   "outputs": [],
   "source": []
  },
  {
   "cell_type": "code",
   "execution_count": null,
   "id": "fbafe7ae",
   "metadata": {},
   "outputs": [],
   "source": []
  },
  {
   "cell_type": "code",
   "execution_count": null,
   "id": "cfd85ea6",
   "metadata": {},
   "outputs": [],
   "source": []
  },
  {
   "cell_type": "code",
   "execution_count": null,
   "id": "a38a8856",
   "metadata": {},
   "outputs": [],
   "source": []
  }
 ],
 "metadata": {
  "kernelspec": {
   "display_name": "Python 3 (ipykernel)",
   "language": "python",
   "name": "python3"
  },
  "language_info": {
   "codemirror_mode": {
    "name": "ipython",
    "version": 3
   },
   "file_extension": ".py",
   "mimetype": "text/x-python",
   "name": "python",
   "nbconvert_exporter": "python",
   "pygments_lexer": "ipython3",
   "version": "3.9.7"
  }
 },
 "nbformat": 4,
 "nbformat_minor": 5
}
