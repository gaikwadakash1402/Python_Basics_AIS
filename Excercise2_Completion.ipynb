{
 "cells": [
  {
   "cell_type": "raw",
   "id": "1de4b62b",
   "metadata": {},
   "source": [
    "name : akash Gaikwad"
   ]
  },
  {
   "cell_type": "code",
   "execution_count": 7,
   "id": "be60ca24",
   "metadata": {},
   "outputs": [],
   "source": [
    "# Excersise 2"
   ]
  },
  {
   "cell_type": "code",
   "execution_count": 8,
   "id": "531f7714",
   "metadata": {},
   "outputs": [
    {
     "name": "stdout",
     "output_type": "stream",
     "text": [
      "Enter Your Marks:15\n",
      "You Are Fail!!!\n"
     ]
    }
   ],
   "source": [
    "# 1. Grade Code\n",
    "\n",
    "X = float(input(\"Enter Your Marks:\"))\n",
    "\n",
    "if X>=35:\n",
    "    if X>=75:\n",
    "        print(\"congratulations you got A+ grade\")\n",
    "    elif 75>X>=60:\n",
    "        print(\"Your Grade is: A\")\n",
    "    elif 60>X>=50:\n",
    "        print(\"Your grade is: B\")\n",
    "    else:\n",
    "        print(\"Your Grade is: C\")\n",
    "else:\n",
    "    print(\"You Are Fail!!!\")\n",
    "    "
   ]
  },
  {
   "cell_type": "code",
   "execution_count": 9,
   "id": "7813278c",
   "metadata": {},
   "outputs": [
    {
     "name": "stdout",
     "output_type": "stream",
     "text": [
      "enter the number: 15\n",
      "Divisible by 3 but not divisible by 2\n"
     ]
    }
   ],
   "source": [
    "# 2. divisible code \n",
    "\n",
    "n = int(input(\"enter the number: \"))\n",
    "if n%2 == 0:\n",
    "    if n%3 == 0:\n",
    "        print(\"Divisible by 2 and 3\")\n",
    "    else:\n",
    "        print(\"Divisible by 2 but not divisible by 3\")\n",
    "else:\n",
    "    if n%3 == 0:\n",
    "        print(\"Divisible by 3 but not divisible by 2\")\n",
    "    else:\n",
    "        print(\"Not divisible by 2 and 3\")"
   ]
  }
 ],
 "metadata": {
  "kernelspec": {
   "display_name": "Python 3 (ipykernel)",
   "language": "python",
   "name": "python3"
  },
  "language_info": {
   "codemirror_mode": {
    "name": "ipython",
    "version": 3
   },
   "file_extension": ".py",
   "mimetype": "text/x-python",
   "name": "python",
   "nbconvert_exporter": "python",
   "pygments_lexer": "ipython3",
   "version": "3.9.7"
  }
 },
 "nbformat": 4,
 "nbformat_minor": 5
}
