{
 "cells": [
  {
   "cell_type": "markdown",
   "id": "236232e5",
   "metadata": {},
   "source": [
    "# name : Akash Gaikwad"
   ]
  },
  {
   "cell_type": "markdown",
   "id": "968f36df",
   "metadata": {},
   "source": [
    "<!-- name : Akash Gaikwad -->"
   ]
  },
  {
   "cell_type": "markdown",
   "id": "5b390c84",
   "metadata": {},
   "source": [
    "________________________________________________________________________________________________________________________\n",
    "- workshop , arranged 10th jan 2022 to 14th jan 2022, online..\n",
    "\n",
    "- Contact: 9975707273   Gmail: aistatics.info@gmail.com\n",
    "\n",
    "- Exercise: day1st\n",
    "\n",
    "_ _________________________________________________________________________________________________________________________\n",
    "_  _________________________________________________________________________________________________________________________"
   ]
  },
  {
   "cell_type": "code",
   "execution_count": 1,
   "id": "7e72f8d0",
   "metadata": {},
   "outputs": [
    {
     "data": {
      "application/javascript": [
       "\n",
       "        if (window._pyforest_update_imports_cell) { window._pyforest_update_imports_cell('import numpy as np'); }\n",
       "    "
      ],
      "text/plain": [
       "<IPython.core.display.Javascript object>"
      ]
     },
     "metadata": {},
     "output_type": "display_data"
    },
    {
     "data": {
      "text/plain": [
       "17022"
      ]
     },
     "execution_count": 1,
     "metadata": {},
     "output_type": "execute_result"
    }
   ],
   "source": [
    "import numpy as mp\n",
    "np.random.randint(17021,17083)\n"
   ]
  },
  {
   "cell_type": "markdown",
   "id": "15700104",
   "metadata": {},
   "source": [
    "#### Print your  name using print function"
   ]
  },
  {
   "cell_type": "code",
   "execution_count": 52,
   "id": "2d5c1551",
   "metadata": {},
   "outputs": [
    {
     "name": "stdout",
     "output_type": "stream",
     "text": [
      "Akash Gaikwad\n"
     ]
    }
   ],
   "source": [
    "print(\"Akash Gaikwad\")"
   ]
  },
  {
   "cell_type": "markdown",
   "id": "bab303bf",
   "metadata": {},
   "source": [
    "#### Write True or False \n"
   ]
  },
  {
   "cell_type": "raw",
   "id": "6c3b3115",
   "metadata": {},
   "source": [
    "#After sentense write variable declaration whether it is true or False\n",
    "example:  abc=[1,2,4]     # True\n",
    "\n",
    "abs=3  #True\n",
    "1__a=[123] #False\n",
    "a__1=[123] #True\n",
    "__a=[\"1111\"] #True\n",
    "kjklkj2=(1,2,3) #True\n",
    "xyz@=55 #False\n",
    "x1234t5678990989898=[1,2,3] #True\n",
    "1233=44 #False\n",
    "@abs={1,2,3} # False\n",
    "pune=pune #False\n",
    "pune=44 #True\n",
    "pune123=44 #True\n",
    "123pune=44 #False\n",
    "1_@pune=44 # False\n",
    "pune@123=44 #False\n",
    "pune______12345=[\"pune\"] #True\n",
    "____pune=[\"123\"] # True\n",
    "a_1_b_2=abc #True\n",
    "\n"
   ]
  },
  {
   "cell_type": "markdown",
   "id": "4a4f6298",
   "metadata": {},
   "source": [
    "#### Difference between = and == (in Two lines)"
   ]
  },
  {
   "cell_type": "code",
   "execution_count": 3,
   "id": "453e1398",
   "metadata": {},
   "outputs": [],
   "source": [
    "# = is a assignment operator\n",
    "# == is comparision operator"
   ]
  },
  {
   "cell_type": "markdown",
   "id": "89480911",
   "metadata": {},
   "source": [
    "#### What is difference between list and tuple (in Two lines)"
   ]
  },
  {
   "cell_type": "code",
   "execution_count": 4,
   "id": "fc57734b",
   "metadata": {},
   "outputs": [],
   "source": [
    "# List is mutable while Tuple is Immutable\n",
    "# Tuple is denoted by () braces and list in [] braces.\n"
   ]
  },
  {
   "cell_type": "code",
   "execution_count": 2,
   "id": "efc96cad",
   "metadata": {},
   "outputs": [
    {
     "ename": "NameError",
     "evalue": "name 'Print' is not defined",
     "output_type": "error",
     "traceback": [
      "\u001b[1;31m---------------------------------------------------------------------------\u001b[0m",
      "\u001b[1;31mNameError\u001b[0m                                 Traceback (most recent call last)",
      "\u001b[1;32m~\\AppData\\Local\\Temp/ipykernel_11448/515835778.py\u001b[0m in \u001b[0;36m<module>\u001b[1;34m\u001b[0m\n\u001b[0;32m      1\u001b[0m \u001b[1;31m#reason of error\u001b[0m\u001b[1;33m\u001b[0m\u001b[1;33m\u001b[0m\u001b[0m\n\u001b[1;32m----> 2\u001b[1;33m \u001b[0mPrint\u001b[0m\u001b[1;33m(\u001b[0m\u001b[1;36m123\u001b[0m\u001b[1;33m)\u001b[0m\u001b[1;33m\u001b[0m\u001b[1;33m\u001b[0m\u001b[0m\n\u001b[0m",
      "\u001b[1;31mNameError\u001b[0m: name 'Print' is not defined"
     ]
    }
   ],
   "source": [
    "#reason of error \n",
    "Print(123)"
   ]
  },
  {
   "cell_type": "raw",
   "id": "420acfb6",
   "metadata": {},
   "source": [
    "Python is case sensetive so.... print(123) is right ."
   ]
  },
  {
   "cell_type": "markdown",
   "id": "fa7af009",
   "metadata": {},
   "source": [
    "#### Use Arithematic Operation for a and b, when a= 5,b=-5"
   ]
  },
  {
   "cell_type": "code",
   "execution_count": 4,
   "id": "7a77d1f8",
   "metadata": {},
   "outputs": [],
   "source": [
    "a = 5\n",
    "b = -5"
   ]
  },
  {
   "cell_type": "code",
   "execution_count": 5,
   "id": "9d4c766c",
   "metadata": {},
   "outputs": [
    {
     "data": {
      "text/plain": [
       "0"
      ]
     },
     "execution_count": 5,
     "metadata": {},
     "output_type": "execute_result"
    }
   ],
   "source": [
    "a+b"
   ]
  },
  {
   "cell_type": "code",
   "execution_count": 6,
   "id": "b39fd610",
   "metadata": {},
   "outputs": [
    {
     "data": {
      "text/plain": [
       "10"
      ]
     },
     "execution_count": 6,
     "metadata": {},
     "output_type": "execute_result"
    }
   ],
   "source": [
    "a-b"
   ]
  },
  {
   "cell_type": "code",
   "execution_count": 7,
   "id": "7def16e8",
   "metadata": {},
   "outputs": [
    {
     "data": {
      "text/plain": [
       "-1.0"
      ]
     },
     "execution_count": 7,
     "metadata": {},
     "output_type": "execute_result"
    }
   ],
   "source": [
    "a/b"
   ]
  },
  {
   "cell_type": "code",
   "execution_count": 8,
   "id": "51aec3ac",
   "metadata": {},
   "outputs": [
    {
     "data": {
      "text/plain": [
       "-25"
      ]
     },
     "execution_count": 8,
     "metadata": {},
     "output_type": "execute_result"
    }
   ],
   "source": [
    "a*b"
   ]
  },
  {
   "cell_type": "markdown",
   "id": "7a950973",
   "metadata": {},
   "source": [
    "#### Use Logical Operation for a and m=10,n=9"
   ]
  },
  {
   "cell_type": "code",
   "execution_count": 9,
   "id": "2b7b4003",
   "metadata": {},
   "outputs": [],
   "source": [
    "m = 10\n",
    "n = 9"
   ]
  },
  {
   "cell_type": "code",
   "execution_count": 76,
   "id": "ea9440f5",
   "metadata": {},
   "outputs": [
    {
     "data": {
      "text/plain": [
       "True"
      ]
     },
     "execution_count": 76,
     "metadata": {},
     "output_type": "execute_result"
    }
   ],
   "source": [
    "#greater than\n",
    "m > n and n < m"
   ]
  },
  {
   "cell_type": "code",
   "execution_count": 77,
   "id": "0ca5b384",
   "metadata": {},
   "outputs": [
    {
     "data": {
      "text/plain": [
       "False"
      ]
     },
     "execution_count": 77,
     "metadata": {},
     "output_type": "execute_result"
    }
   ],
   "source": [
    "#less than\n",
    "m < n or n > m"
   ]
  },
  {
   "cell_type": "code",
   "execution_count": 12,
   "id": "ac403529",
   "metadata": {},
   "outputs": [
    {
     "data": {
      "text/plain": [
       "True"
      ]
     },
     "execution_count": 12,
     "metadata": {},
     "output_type": "execute_result"
    }
   ],
   "source": [
    "#not Equal to\n",
    "m!=n"
   ]
  },
  {
   "cell_type": "code",
   "execution_count": 13,
   "id": "fac1ccc0",
   "metadata": {},
   "outputs": [
    {
     "data": {
      "text/plain": [
       "False"
      ]
     },
     "execution_count": 13,
     "metadata": {},
     "output_type": "execute_result"
    }
   ],
   "source": [
    "#Equal to\n",
    "m==n"
   ]
  },
  {
   "cell_type": "markdown",
   "id": "23da0368",
   "metadata": {},
   "source": [
    "#### Write code"
   ]
  },
  {
   "cell_type": "code",
   "execution_count": 28,
   "id": "17c65f2e",
   "metadata": {},
   "outputs": [
    {
     "data": {
      "text/plain": [
       "[23, 501, 'Pune', (1, 2, 3), 2.1, ['Pythonprogram']]"
      ]
     },
     "execution_count": 28,
     "metadata": {},
     "output_type": "execute_result"
    }
   ],
   "source": [
    "L=[23,501,\"Pune\",(1,2,3),2.1,[\"Python\"+\"program\"]]\n",
    "L"
   ]
  },
  {
   "cell_type": "code",
   "execution_count": 29,
   "id": "dd31697e",
   "metadata": {},
   "outputs": [
    {
     "data": {
      "text/plain": [
       "['Pythonprogram']"
      ]
     },
     "execution_count": 29,
     "metadata": {},
     "output_type": "execute_result"
    }
   ],
   "source": [
    "L[5]"
   ]
  },
  {
   "cell_type": "code",
   "execution_count": 30,
   "id": "6ba5a501",
   "metadata": {},
   "outputs": [
    {
     "data": {
      "text/plain": [
       "501"
      ]
     },
     "execution_count": 30,
     "metadata": {},
     "output_type": "execute_result"
    }
   ],
   "source": [
    "L[1]"
   ]
  },
  {
   "cell_type": "code",
   "execution_count": 31,
   "id": "6c6e9ba6",
   "metadata": {},
   "outputs": [
    {
     "data": {
      "text/plain": [
       "['Pune', (1, 2, 3), 2.1]"
      ]
     },
     "execution_count": 31,
     "metadata": {},
     "output_type": "execute_result"
    }
   ],
   "source": [
    "L[2:5]"
   ]
  },
  {
   "cell_type": "code",
   "execution_count": 32,
   "id": "f25a47fd",
   "metadata": {},
   "outputs": [],
   "source": [
    "L[2] = \"Baramati\""
   ]
  },
  {
   "cell_type": "code",
   "execution_count": 33,
   "id": "de97921d",
   "metadata": {},
   "outputs": [
    {
     "data": {
      "text/plain": [
       "[23, 501, 'Baramati', (1, 2, 3), 2.1, ['Pythonprogram']]"
      ]
     },
     "execution_count": 33,
     "metadata": {},
     "output_type": "execute_result"
    }
   ],
   "source": [
    "L[:]"
   ]
  },
  {
   "cell_type": "code",
   "execution_count": 34,
   "id": "55a25806",
   "metadata": {},
   "outputs": [],
   "source": [
    "L.append(\"TCC\")"
   ]
  },
  {
   "cell_type": "code",
   "execution_count": 35,
   "id": "c8146ccf",
   "metadata": {},
   "outputs": [
    {
     "data": {
      "text/plain": [
       "[23, 501, 'Baramati', (1, 2, 3), 2.1, ['Pythonprogram'], 'TCC']"
      ]
     },
     "execution_count": 35,
     "metadata": {},
     "output_type": "execute_result"
    }
   ],
   "source": [
    "L"
   ]
  },
  {
   "cell_type": "code",
   "execution_count": 36,
   "id": "9c4ddf5f",
   "metadata": {},
   "outputs": [
    {
     "data": {
      "text/plain": [
       "[23, 501, 'Baramati', 2.1, ['Pythonprogram'], 'TCC']"
      ]
     },
     "execution_count": 36,
     "metadata": {},
     "output_type": "execute_result"
    }
   ],
   "source": [
    "L.remove((1,2,3))\n",
    "L"
   ]
  },
  {
   "cell_type": "code",
   "execution_count": 37,
   "id": "17dbbe16",
   "metadata": {},
   "outputs": [
    {
     "data": {
      "text/plain": [
       "[23, 501, (1, 2, 3), 'Baramati', 2.1, ['Pythonprogram'], 'TCC']"
      ]
     },
     "execution_count": 37,
     "metadata": {},
     "output_type": "execute_result"
    }
   ],
   "source": [
    "L.insert(2,(1,2,3))\n",
    "L"
   ]
  },
  {
   "cell_type": "code",
   "execution_count": 40,
   "id": "354ac9c2",
   "metadata": {},
   "outputs": [
    {
     "data": {
      "text/plain": [
       "[]"
      ]
     },
     "execution_count": 40,
     "metadata": {},
     "output_type": "execute_result"
    }
   ],
   "source": [
    "L.clear()\n",
    "L"
   ]
  },
  {
   "cell_type": "code",
   "execution_count": 41,
   "id": "59843e46",
   "metadata": {},
   "outputs": [
    {
     "ename": "NameError",
     "evalue": "name 'L' is not defined",
     "output_type": "error",
     "traceback": [
      "\u001b[1;31m---------------------------------------------------------------------------\u001b[0m",
      "\u001b[1;31mNameError\u001b[0m                                 Traceback (most recent call last)",
      "\u001b[1;32m~\\AppData\\Local\\Temp/ipykernel_11448/1424664005.py\u001b[0m in \u001b[0;36m<module>\u001b[1;34m\u001b[0m\n\u001b[0;32m      1\u001b[0m \u001b[1;32mdel\u001b[0m \u001b[0mL\u001b[0m\u001b[1;33m\u001b[0m\u001b[1;33m\u001b[0m\u001b[0m\n\u001b[1;32m----> 2\u001b[1;33m \u001b[0mL\u001b[0m\u001b[1;33m\u001b[0m\u001b[1;33m\u001b[0m\u001b[0m\n\u001b[0m",
      "\u001b[1;31mNameError\u001b[0m: name 'L' is not defined"
     ]
    }
   ],
   "source": [
    "del L\n",
    "L"
   ]
  },
  {
   "cell_type": "code",
   "execution_count": 42,
   "id": "fec9298a",
   "metadata": {},
   "outputs": [],
   "source": [
    "t=(1,9,4,6,2)   #tuple"
   ]
  },
  {
   "cell_type": "code",
   "execution_count": 43,
   "id": "58b78762",
   "metadata": {},
   "outputs": [
    {
     "data": {
      "text/plain": [
       "(4, 6, 2)"
      ]
     },
     "execution_count": 43,
     "metadata": {},
     "output_type": "execute_result"
    }
   ],
   "source": [
    "t[2:]"
   ]
  },
  {
   "cell_type": "code",
   "execution_count": 44,
   "id": "91919940",
   "metadata": {},
   "outputs": [
    {
     "data": {
      "text/plain": [
       "(1, 9, 4)"
      ]
     },
     "execution_count": 44,
     "metadata": {},
     "output_type": "execute_result"
    }
   ],
   "source": [
    "t[0:3]"
   ]
  },
  {
   "cell_type": "code",
   "execution_count": 45,
   "id": "c3017687",
   "metadata": {},
   "outputs": [
    {
     "data": {
      "text/plain": [
       "('a', 'b', 'c', 'd')"
      ]
     },
     "execution_count": 45,
     "metadata": {},
     "output_type": "execute_result"
    }
   ],
   "source": [
    "x = (\"a\", \"b\", \"c\", \"d\")\n",
    "x"
   ]
  },
  {
   "cell_type": "code",
   "execution_count": 51,
   "id": "48991a84",
   "metadata": {},
   "outputs": [
    {
     "name": "stdout",
     "output_type": "stream",
     "text": [
      "b d\n"
     ]
    }
   ],
   "source": [
    "print(x[1],x[3])"
   ]
  },
  {
   "cell_type": "markdown",
   "id": "41854cd0",
   "metadata": {},
   "source": [
    "#### Convert  x variable  type in  list datatype and  check. "
   ]
  },
  {
   "cell_type": "code",
   "execution_count": 53,
   "id": "d021a60c",
   "metadata": {},
   "outputs": [
    {
     "data": {
      "text/plain": [
       "['a', 'b', 'c', 'd']"
      ]
     },
     "execution_count": 53,
     "metadata": {},
     "output_type": "execute_result"
    }
   ],
   "source": [
    "lst = list(x)\n",
    "lst"
   ]
  },
  {
   "cell_type": "code",
   "execution_count": 54,
   "id": "f53a6145",
   "metadata": {},
   "outputs": [
    {
     "data": {
      "text/plain": [
       "list"
      ]
     },
     "execution_count": 54,
     "metadata": {},
     "output_type": "execute_result"
    }
   ],
   "source": [
    "type(lst)"
   ]
  },
  {
   "cell_type": "code",
   "execution_count": 55,
   "id": "dd9d6100",
   "metadata": {},
   "outputs": [
    {
     "name": "stdout",
     "output_type": "stream",
     "text": [
      "11.25\n",
      "9.5\n",
      "20.0\n"
     ]
    }
   ],
   "source": [
    "areas = [\"hallway\", 11.25, \"kitchen\", 18.0, \"living room\", 20.0, \"bedroom\", 10.75, \"bathroom\", 9.50]\n",
    "\n",
    "# Print out second element from areas\n",
    "print(areas[1])\n",
    "\n",
    "# Print out last element from areas\n",
    "print(areas[-1])\n",
    "\n",
    "# Print out the area of the living room\n",
    "print(areas[5])"
   ]
  },
  {
   "cell_type": "markdown",
   "id": "28d7cbbf",
   "metadata": {},
   "source": [
    "# Set and dict"
   ]
  },
  {
   "cell_type": "code",
   "execution_count": 56,
   "id": "f2bd1979",
   "metadata": {},
   "outputs": [
    {
     "data": {
      "text/plain": [
       "{'item1': 45.5, 'item2': 35, 'item3': 41.3, 'item4': 55, 'item5': 24}"
      ]
     },
     "execution_count": 56,
     "metadata": {},
     "output_type": "execute_result"
    }
   ],
   "source": [
    "Sample_data={'item1': 45.50, 'item2':35, 'item3': 41.30, 'item4':55, 'item5': 24}\n",
    "Sample_data"
   ]
  },
  {
   "cell_type": "code",
   "execution_count": 57,
   "id": "1bcb7e93",
   "metadata": {},
   "outputs": [
    {
     "data": {
      "text/plain": [
       "35"
      ]
     },
     "execution_count": 57,
     "metadata": {},
     "output_type": "execute_result"
    }
   ],
   "source": [
    "Sample_data['item2']"
   ]
  },
  {
   "cell_type": "code",
   "execution_count": 59,
   "id": "66b2684e",
   "metadata": {},
   "outputs": [
    {
     "data": {
      "text/plain": [
       "dict_keys(['item1', 'item2', 'item3', 'item4', 'item5'])"
      ]
     },
     "execution_count": 59,
     "metadata": {},
     "output_type": "execute_result"
    }
   ],
   "source": [
    "Sample_data.keys()"
   ]
  },
  {
   "cell_type": "code",
   "execution_count": 60,
   "id": "373231cf",
   "metadata": {},
   "outputs": [
    {
     "data": {
      "text/plain": [
       "dict_values([45.5, 35, 41.3, 55, 24])"
      ]
     },
     "execution_count": 60,
     "metadata": {},
     "output_type": "execute_result"
    }
   ],
   "source": [
    "Sample_data.values()"
   ]
  },
  {
   "cell_type": "code",
   "execution_count": 62,
   "id": "dfb4bf93",
   "metadata": {},
   "outputs": [
    {
     "data": {
      "text/plain": [
       "{'item1': 45.5, 'item2': 35, 'item3': 41.3, 'item4': 55, 'item5': 24}"
      ]
     },
     "execution_count": 62,
     "metadata": {},
     "output_type": "execute_result"
    }
   ],
   "source": [
    "Sample_data"
   ]
  },
  {
   "cell_type": "code",
   "execution_count": null,
   "id": "df135bf0",
   "metadata": {},
   "outputs": [],
   "source": []
  },
  {
   "cell_type": "code",
   "execution_count": 67,
   "id": "9e565b9e",
   "metadata": {},
   "outputs": [],
   "source": [
    "# Create the d\n",
    "d = {\"hallway\": 11.25, \"kitchen\":18.0, \"living room\": 20.0, \"bedroom\": 10.75, \"bathroom\": 9.50}\n"
   ]
  },
  {
   "cell_type": "code",
   "execution_count": 68,
   "id": "976fd9b4",
   "metadata": {},
   "outputs": [
    {
     "data": {
      "text/plain": [
       "{'hallway': 11.25,\n",
       " 'kitchen': 18.0,\n",
       " 'living room': 20.0,\n",
       " 'bedroom': 10,\n",
       " 'bathroom': 9.5}"
      ]
     },
     "execution_count": 68,
     "metadata": {},
     "output_type": "execute_result"
    }
   ],
   "source": [
    "# Replace the bathroom area by 10\n",
    "d[\"bedroom\"] = 10\n",
    "d"
   ]
  },
  {
   "cell_type": "code",
   "execution_count": 71,
   "id": "23fc94c2",
   "metadata": {},
   "outputs": [
    {
     "data": {
      "text/plain": [
       "{'hallway': 11.25,\n",
       " 'kitchen': 18.0,\n",
       " 'bedroom': 10,\n",
       " 'bathroom': 9.5,\n",
       " 'chill zone': 20.0}"
      ]
     },
     "execution_count": 71,
     "metadata": {},
     "output_type": "execute_result"
    }
   ],
   "source": [
    "# Change \"living room\" to \"chill zone\"\n",
    "d[\"chill zone\"] = d[\"living room\"]\n",
    "del d[\"living room\"]\n",
    "d"
   ]
  },
  {
   "cell_type": "markdown",
   "id": "ce502765",
   "metadata": {},
   "source": [
    "#### Create Empty set and check type"
   ]
  },
  {
   "cell_type": "code",
   "execution_count": 72,
   "id": "b8a84781",
   "metadata": {},
   "outputs": [
    {
     "data": {
      "text/plain": [
       "set"
      ]
     },
     "execution_count": 72,
     "metadata": {},
     "output_type": "execute_result"
    }
   ],
   "source": [
    "s = set()\n",
    "type(s)"
   ]
  },
  {
   "cell_type": "markdown",
   "id": "c55d64cf",
   "metadata": {},
   "source": [
    "#### Create two sets name of X and Y and apply two methods "
   ]
  },
  {
   "cell_type": "code",
   "execution_count": 73,
   "id": "fdfe6d4a",
   "metadata": {},
   "outputs": [],
   "source": [
    "X = {1,2,3,4,5}\n",
    "Y = {3,4,5,6,7}"
   ]
  },
  {
   "cell_type": "code",
   "execution_count": 74,
   "id": "c412333c",
   "metadata": {},
   "outputs": [
    {
     "data": {
      "text/plain": [
       "{1, 2, 3, 4, 5, 6, 7}"
      ]
     },
     "execution_count": 74,
     "metadata": {},
     "output_type": "execute_result"
    }
   ],
   "source": [
    "X.union(Y)"
   ]
  },
  {
   "cell_type": "code",
   "execution_count": 75,
   "id": "2ffadb30",
   "metadata": {},
   "outputs": [
    {
     "data": {
      "text/plain": [
       "{3, 4, 5}"
      ]
     },
     "execution_count": 75,
     "metadata": {},
     "output_type": "execute_result"
    }
   ],
   "source": [
    "X.intersection(Y)"
   ]
  },
  {
   "cell_type": "markdown",
   "id": "1244f2f4",
   "metadata": {},
   "source": [
    "#### Create  list name of L1 and apply Five methods \n"
   ]
  },
  {
   "cell_type": "code",
   "execution_count": 79,
   "id": "285f0a1f",
   "metadata": {},
   "outputs": [
    {
     "data": {
      "text/plain": [
       "2"
      ]
     },
     "execution_count": 79,
     "metadata": {},
     "output_type": "execute_result"
    }
   ],
   "source": [
    "L1 = [1,22,3,4,4,\"vaishnav\",10,\"akash\"]\n",
    "#1\n",
    "L1.append(\"AIS\")\n",
    "#2\n",
    "L1.count(4)"
   ]
  },
  {
   "cell_type": "code",
   "execution_count": 80,
   "id": "9a734a22",
   "metadata": {},
   "outputs": [
    {
     "data": {
      "text/plain": [
       "[1, 22, 3, 4, 4, 'vaishnav', 10, 'akash', 'AIS']"
      ]
     },
     "execution_count": 80,
     "metadata": {},
     "output_type": "execute_result"
    }
   ],
   "source": [
    "L1"
   ]
  },
  {
   "cell_type": "code",
   "execution_count": 81,
   "id": "329af0f7",
   "metadata": {},
   "outputs": [],
   "source": [
    "L2 = [100,200,300]\n",
    "L1.extend(L2)"
   ]
  },
  {
   "cell_type": "code",
   "execution_count": 82,
   "id": "21942149",
   "metadata": {},
   "outputs": [
    {
     "data": {
      "text/plain": [
       "[1, 22, 3, 4, 4, 'vaishnav', 10, 'akash', 'AIS', 100, 200, 300]"
      ]
     },
     "execution_count": 82,
     "metadata": {},
     "output_type": "execute_result"
    }
   ],
   "source": [
    "L1"
   ]
  },
  {
   "cell_type": "code",
   "execution_count": 84,
   "id": "325dfc6c",
   "metadata": {},
   "outputs": [
    {
     "data": {
      "text/plain": [
       "7"
      ]
     },
     "execution_count": 84,
     "metadata": {},
     "output_type": "execute_result"
    }
   ],
   "source": [
    "L1.index(\"akash\")"
   ]
  },
  {
   "cell_type": "code",
   "execution_count": 85,
   "id": "7b900c86",
   "metadata": {},
   "outputs": [],
   "source": [
    "L1.clear()"
   ]
  },
  {
   "cell_type": "code",
   "execution_count": 86,
   "id": "5195bd53",
   "metadata": {},
   "outputs": [
    {
     "data": {
      "text/plain": [
       "[]"
      ]
     },
     "execution_count": 86,
     "metadata": {},
     "output_type": "execute_result"
    }
   ],
   "source": [
    "L1"
   ]
  },
  {
   "cell_type": "markdown",
   "id": "298bb83c",
   "metadata": {},
   "source": [
    "#### Create  tuple name of T1 and apply two methods \n"
   ]
  },
  {
   "cell_type": "code",
   "execution_count": 91,
   "id": "6039931f",
   "metadata": {},
   "outputs": [],
   "source": [
    "T1 = (1,2,3,4,4)"
   ]
  },
  {
   "cell_type": "code",
   "execution_count": 92,
   "id": "c8c4fc28",
   "metadata": {},
   "outputs": [
    {
     "data": {
      "text/plain": [
       "1"
      ]
     },
     "execution_count": 92,
     "metadata": {},
     "output_type": "execute_result"
    }
   ],
   "source": [
    "TP.index(2)"
   ]
  },
  {
   "cell_type": "code",
   "execution_count": 94,
   "id": "33e9db71",
   "metadata": {},
   "outputs": [
    {
     "data": {
      "text/plain": [
       "2"
      ]
     },
     "execution_count": 94,
     "metadata": {},
     "output_type": "execute_result"
    }
   ],
   "source": [
    "TP.count(4)"
   ]
  },
  {
   "cell_type": "markdown",
   "id": "3fd6a214",
   "metadata": {},
   "source": [
    "#### Create dict name of D1 and apply two methods \n"
   ]
  },
  {
   "cell_type": "code",
   "execution_count": 96,
   "id": "7ca46078",
   "metadata": {},
   "outputs": [],
   "source": [
    "D1 = {\"name\":\"prajyot\",\n",
    "     \"surname\":\"patil\",\n",
    "     \"company\":\"AIS\",\n",
    "     \"EST\": 2015}"
   ]
  },
  {
   "cell_type": "code",
   "execution_count": 97,
   "id": "ec308895",
   "metadata": {},
   "outputs": [
    {
     "data": {
      "text/plain": [
       "'prajyot'"
      ]
     },
     "execution_count": 97,
     "metadata": {},
     "output_type": "execute_result"
    }
   ],
   "source": [
    "D1.pop(\"name\")"
   ]
  },
  {
   "cell_type": "code",
   "execution_count": 98,
   "id": "47c6e58c",
   "metadata": {},
   "outputs": [
    {
     "name": "stdout",
     "output_type": "stream",
     "text": [
      "{}\n"
     ]
    }
   ],
   "source": [
    "D1.clear()\n",
    "print(D1)"
   ]
  },
  {
   "cell_type": "markdown",
   "id": "420aa47d",
   "metadata": {},
   "source": [
    "#### Write variable declaration norms \n"
   ]
  },
  {
   "cell_type": "code",
   "execution_count": 100,
   "id": "12962465",
   "metadata": {},
   "outputs": [],
   "source": [
    "# 1. variable name must start with a letter or an underscore(_).\n",
    "# 2. variable name cannot start with a digit.\n",
    "# 3. variable name cannot contain special character(@#$%* etc)."
   ]
  },
  {
   "cell_type": "markdown",
   "id": "a8aa94db",
   "metadata": {},
   "source": [
    "# Thank You!"
   ]
  }
 ],
 "metadata": {
  "kernelspec": {
   "display_name": "Python 3 (ipykernel)",
   "language": "python",
   "name": "python3"
  },
  "language_info": {
   "codemirror_mode": {
    "name": "ipython",
    "version": 3
   },
   "file_extension": ".py",
   "mimetype": "text/x-python",
   "name": "python",
   "nbconvert_exporter": "python",
   "pygments_lexer": "ipython3",
   "version": "3.9.7"
  }
 },
 "nbformat": 4,
 "nbformat_minor": 5
}
