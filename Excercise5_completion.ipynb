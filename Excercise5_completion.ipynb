{
 "cells": [
  {
   "cell_type": "markdown",
   "id": "a442a9f7",
   "metadata": {},
   "source": [
    "# One line commands using lambda"
   ]
  },
  {
   "cell_type": "code",
   "execution_count": 3,
   "id": "b0e8b92e",
   "metadata": {},
   "outputs": [
    {
     "name": "stdout",
     "output_type": "stream",
     "text": [
      "50\n"
     ]
    }
   ],
   "source": [
    "# substracion\n",
    "sub = lambda a,b:a-b\n",
    "print(sub(100,50))"
   ]
  },
  {
   "cell_type": "code",
   "execution_count": 4,
   "id": "0f2822a5",
   "metadata": {},
   "outputs": [
    {
     "name": "stdout",
     "output_type": "stream",
     "text": [
      "6\n"
     ]
    }
   ],
   "source": [
    "# Multiplication\n",
    "mult = lambda a,b,c:a*b*c\n",
    "print(mult(1,2,3))"
   ]
  },
  {
   "cell_type": "code",
   "execution_count": 5,
   "id": "531a18d8",
   "metadata": {},
   "outputs": [
    {
     "name": "stdout",
     "output_type": "stream",
     "text": [
      "16\n"
     ]
    }
   ],
   "source": [
    "# power function\n",
    "powr = lambda x,y:x**y\n",
    "print(powr(4,2))"
   ]
  },
  {
   "cell_type": "code",
   "execution_count": 7,
   "id": "0b31b7c4",
   "metadata": {},
   "outputs": [
    {
     "name": "stdout",
     "output_type": "stream",
     "text": [
      "27\n"
     ]
    }
   ],
   "source": [
    "#cube\n",
    "cube = lambda n:n*n*n\n",
    "print(cube(3))"
   ]
  },
  {
   "cell_type": "code",
   "execution_count": 2,
   "id": "7d74fe0f",
   "metadata": {},
   "outputs": [
    {
     "name": "stdout",
     "output_type": "stream",
     "text": [
      "3.0\n"
     ]
    }
   ],
   "source": [
    "#mean of given 5 values\n",
    "lst = [1,2,3,4,5]\n",
    "mean = lambda lst:sum(lst)/len(lst)\n",
    "print(mean(lst))"
   ]
  },
  {
   "cell_type": "code",
   "execution_count": null,
   "id": "7325be57",
   "metadata": {},
   "outputs": [],
   "source": []
  },
  {
   "cell_type": "markdown",
   "id": "301e5e9f",
   "metadata": {},
   "source": [
    "# Create User Defined Functions"
   ]
  },
  {
   "cell_type": "code",
   "execution_count": 14,
   "id": "09dc32f9",
   "metadata": {},
   "outputs": [
    {
     "name": "stdout",
     "output_type": "stream",
     "text": [
      "557.1020408163265\n"
     ]
    }
   ],
   "source": [
    "# Calculate Varience of (1,24,55,65,45,12,5)\n",
    "# formula for varience - sum((x-avg)**2/len(data))\n",
    "data = [1,24,55,65,45,12,5]\n",
    "avg = sum(data)/len(data)\n",
    "diff = list(map(lambda x:x-avg,data))\n",
    "sq_diff = list(map(lambda x:x**2,diff))\n",
    "varience = sum(sq_diff)/len(data)\n",
    "print(varience)"
   ]
  },
  {
   "cell_type": "code",
   "execution_count": 2,
   "id": "79cab429",
   "metadata": {},
   "outputs": [
    {
     "name": "stdout",
     "output_type": "stream",
     "text": [
      "enter your number:5\n",
      "120\n"
     ]
    }
   ],
   "source": [
    "# factorial using user defined function\n",
    "# fact = map(lambda n:n*(n-1),n)\n",
    "# print(fact(5))\n",
    "fact = lambda num : 1 if num <= 1 else num*fact(num-1)\n",
    "num = int(input(\"enter your number:\"))\n",
    "print(fact(num))"
   ]
  },
  {
   "cell_type": "code",
   "execution_count": 4,
   "id": "f3fc489c",
   "metadata": {},
   "outputs": [
    {
     "name": "stdout",
     "output_type": "stream",
     "text": [
      "96\n"
     ]
    }
   ],
   "source": [
    "# addition of only Even numbers (1,2,5,46,4,5,42,45,2)\n",
    "\n",
    "numbers = [1, 2, 5, 46, 4, 5, 42, 45, 2]\n",
    "number = list(filter(lambda x: x % 2 == 0, numbers))\n",
    "x = sum(number)\n",
    "print(x)\n"
   ]
  },
  {
   "cell_type": "code",
   "execution_count": 7,
   "id": "de4b6a21",
   "metadata": {},
   "outputs": [
    {
     "name": "stdout",
     "output_type": "stream",
     "text": [
      "Addition: 15\n",
      "Subtraction: 5\n",
      "Multiplication: 50\n",
      "Division: 2.0\n"
     ]
    }
   ],
   "source": [
    "# Bodmas calculation for any 2 values cteate fun and multiple return using python lambda function\n",
    "\n",
    "bodmas_calc = lambda a, b: (a + b, a - b, a * b, a / b)\n",
    "\n",
    "result_add, result_sub, result_mul, result_div = bodmas_calc(10, 5)\n",
    "print(\"Addition:\", result_add)  \n",
    "print(\"Subtraction:\", result_sub) \n",
    "print(\"Multiplication:\", result_mul) \n",
    "print(\"Division:\", result_div)  \n"
   ]
  },
  {
   "cell_type": "code",
   "execution_count": null,
   "id": "99a9dd44",
   "metadata": {},
   "outputs": [],
   "source": [
    "# thank U!!!"
   ]
  }
 ],
 "metadata": {
  "kernelspec": {
   "display_name": "Python 3 (ipykernel)",
   "language": "python",
   "name": "python3"
  },
  "language_info": {
   "codemirror_mode": {
    "name": "ipython",
    "version": 3
   },
   "file_extension": ".py",
   "mimetype": "text/x-python",
   "name": "python",
   "nbconvert_exporter": "python",
   "pygments_lexer": "ipython3",
   "version": "3.9.7"
  }
 },
 "nbformat": 4,
 "nbformat_minor": 5
}
